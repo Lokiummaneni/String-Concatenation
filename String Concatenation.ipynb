{
 "cells": [
  {
   "cell_type": "code",
   "execution_count": 2,
   "id": "eddaa3f6",
   "metadata": {},
   "outputs": [],
   "source": [
    "name='Lokesh'"
   ]
  },
  {
   "cell_type": "code",
   "execution_count": 3,
   "id": "fc801325",
   "metadata": {},
   "outputs": [
    {
     "name": "stdout",
     "output_type": "stream",
     "text": [
      "My name is:Lokesh\n"
     ]
    }
   ],
   "source": [
    "print('My name is:'+name)"
   ]
  },
  {
   "cell_type": "code",
   "execution_count": 8,
   "id": "fc5393e5",
   "metadata": {},
   "outputs": [
    {
     "name": "stdout",
     "output_type": "stream",
     "text": [
      "My name is: Lokesh\n"
     ]
    }
   ],
   "source": [
    "print('My name is: {}'.format(name))"
   ]
  },
  {
   "cell_type": "code",
   "execution_count": 10,
   "id": "1653a68a",
   "metadata": {},
   "outputs": [
    {
     "name": "stdout",
     "output_type": "stream",
     "text": [
      "My name is : Lokesh\n"
     ]
    }
   ],
   "source": [
    "print(f'My name is : {name}')"
   ]
  },
  {
   "cell_type": "code",
   "execution_count": 13,
   "id": "a301abd1",
   "metadata": {},
   "outputs": [],
   "source": [
    "age='26'\n",
    "course=\"python\"\n",
    "qualification='B-tech'"
   ]
  },
  {
   "cell_type": "code",
   "execution_count": 17,
   "id": "9986e336",
   "metadata": {},
   "outputs": [
    {
     "name": "stdout",
     "output_type": "stream",
     "text": [
      "my name is Lokesh and my age is 26, I completed B-tech\n"
     ]
    }
   ],
   "source": [
    "print('my name is '+ name +' and my age is '+ age +', I completed '+ qualification)"
   ]
  },
  {
   "cell_type": "code",
   "execution_count": 21,
   "id": "bebd65d5",
   "metadata": {},
   "outputs": [
    {
     "name": "stdout",
     "output_type": "stream",
     "text": [
      "my name is Lokesh and my age is 26,I complted B-tech\n"
     ]
    }
   ],
   "source": [
    "print('my name is {} and my age is {},I complted {}'.format(name,age,qualification))"
   ]
  },
  {
   "cell_type": "code",
   "execution_count": 23,
   "id": "052f95dd",
   "metadata": {},
   "outputs": [
    {
     "name": "stdout",
     "output_type": "stream",
     "text": [
      "my name is Lokesh and my age is 26,I complted B-tech\n"
     ]
    }
   ],
   "source": [
    "print(f'my name is {name} and my age is {age},I complted {qualification}')"
   ]
  },
  {
   "cell_type": "code",
   "execution_count": null,
   "id": "33734ae5",
   "metadata": {},
   "outputs": [],
   "source": []
  },
  {
   "cell_type": "code",
   "execution_count": null,
   "id": "8fb436e6",
   "metadata": {},
   "outputs": [],
   "source": []
  }
 ],
 "metadata": {
  "kernelspec": {
   "display_name": "Python 3 (ipykernel)",
   "language": "python",
   "name": "python3"
  },
  "language_info": {
   "codemirror_mode": {
    "name": "ipython",
    "version": 3
   },
   "file_extension": ".py",
   "mimetype": "text/x-python",
   "name": "python",
   "nbconvert_exporter": "python",
   "pygments_lexer": "ipython3",
   "version": "3.9.12"
  }
 },
 "nbformat": 4,
 "nbformat_minor": 5
}
